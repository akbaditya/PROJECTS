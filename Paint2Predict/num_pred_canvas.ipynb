{
 "cells": [
  {
   "cell_type": "code",
   "execution_count": 20,
   "id": "e04ecef9-37d6-43a0-b4a5-e3e9a157d52b",
   "metadata": {},
   "outputs": [],
   "source": [
    "\n",
    "from PIL import Image, ImageOps, ImageChops\n",
    "import numpy as np\n",
    "\n",
    "def mnist_style_preprocess_pil(pil_img):\n",
    "    img = pil_img.convert('L')\n",
    "    arr = np.array(img)\n",
    "    if arr.mean() > 127:\n",
    "        img = ImageOps.invert(img)\n",
    "        arr = np.array(img)\n",
    "\n",
    "    img = img.point(lambda p: 255 if p > 50 else 0)\n",
    "\n",
    "    bbox = img.getbbox()\n",
    "    if bbox:\n",
    "        img = img.crop(bbox)\n",
    "    else:\n",
    "        return np.zeros((28,28), dtype=np.float32)\n",
    "\n",
    "    max_side = max(img.size)\n",
    "    square = Image.new('L', (max_side, max_side), color=0)\n",
    "    square.paste(img, ((max_side - img.size[0])//2, (max_side - img.size[1])//2))\n",
    "\n",
    "    img20 = square.resize((20,20), Image.Resampling.LANCZOS)\n",
    "\n",
    "    img28 = Image.new('L', (28,28), color=0)\n",
    "    img28.paste(img20, (4,4))\n",
    "\n",
    "    arr28 = np.array(img28).astype(np.float32)\n",
    "    ys, xs = np.where(arr28 > 0)\n",
    "    if len(xs) > 0:\n",
    "        cx = xs.mean()\n",
    "        cy = ys.mean()\n",
    "        shiftx = int(round(14 - cx))\n",
    "        shifty = int(round(14 - cy))\n",
    "        img28 = ImageChops.offset(Image.fromarray(arr28.astype('uint8')), shiftx, shifty)\n",
    "        arr28 = np.array(img28).astype(np.float32)\n",
    "\n",
    "    arr28 = arr28 / 255.0\n",
    "    return arr28\n"
   ]
  },
  {
   "cell_type": "code",
   "execution_count": 21,
   "id": "c5cad087-0300-4b3b-a7b8-0b65c2c3fb5f",
   "metadata": {},
   "outputs": [
    {
     "name": "stdout",
     "output_type": "stream",
     "text": [
      "Augmented training shape: (60000, 28, 28, 1) (60000,)\n"
     ]
    }
   ],
   "source": [
    "import numpy as np\n",
    "from tensorflow.keras.datasets import mnist\n",
    "from PIL import Image, ImageFilter\n",
    "from scipy.ndimage import binary_dilation\n",
    "import random\n",
    "from tensorflow.keras.utils import to_categorical\n",
    "\n",
    "(x_train, y_train), (x_test, y_test) = mnist.load_data()\n",
    "\n",
    "def make_canvas_style(img_arr):\n",
    "    img = Image.fromarray(img_arr).resize((140,140), Image.Resampling.NEAREST)\n",
    "    img = img.point(lambda p: 255 if p > 50 else 0)\n",
    "    arr = np.array(img)\n",
    "    mask = arr > 0\n",
    "    mask = binary_dilation(mask, structure=np.ones((3,3)))  \n",
    "    arr = (mask.astype(np.uint8) * 255)\n",
    "    pil = Image.fromarray(arr).filter(ImageFilter.GaussianBlur(radius=1))\n",
    "    small = pil.resize((28,28), Image.Resampling.LANCZOS)\n",
    "    small = ImageOps.invert(small)\n",
    "    return np.array(small)\n",
    "\n",
    "aug_images = []\n",
    "aug_labels = []\n",
    "\n",
    "N = 30000  \n",
    "indices = np.random.choice(len(x_train), N, replace=True)\n",
    "for idx in indices:\n",
    "    base = x_train[idx]\n",
    "    label = y_train[idx]\n",
    "    thick = make_canvas_style(base)\n",
    "    aug_images.append(thick.astype(np.float32) / 255.0)\n",
    "    aug_labels.append(label)\n",
    "\n",
    "aug_images = np.array(aug_images)\n",
    "aug_labels = np.array(aug_labels)\n",
    "\n",
    "X_orig = x_train.astype(np.float32)/255.0\n",
    "X_orig = X_orig[:30000]  \n",
    "Y_orig = y_train[:30000]\n",
    "\n",
    "X_train_aug = np.concatenate([X_orig.reshape(-1,28,28), aug_images], axis=0)\n",
    "Y_train_aug = np.concatenate([Y_orig, aug_labels], axis=0)\n",
    "\n",
    "perm = np.random.permutation(len(X_train_aug))\n",
    "X_train_aug = X_train_aug[perm]\n",
    "Y_train_aug = Y_train_aug[perm]\n",
    "\n",
    "X_train_aug = X_train_aug[..., np.newaxis]\n",
    "x_test = x_test.astype(np.float32)/255.0\n",
    "x_test = x_test[..., np.newaxis]\n",
    "\n",
    "print(\"Augmented training shape:\", X_train_aug.shape, Y_train_aug.shape)\n"
   ]
  },
  {
   "cell_type": "code",
   "execution_count": null,
   "id": "1b08b4ee-25b4-410a-a543-7e8b3e3f19e7",
   "metadata": {},
   "outputs": [],
   "source": [
    "import tensorflow as tf\n",
    "from tensorflow.keras import layers, models\n",
    "from tensorflow.keras.callbacks import ReduceLROnPlateau, EarlyStopping, ModelCheckpoint\n",
    "\n",
    "def get_improved_model():\n",
    "    model = models.Sequential([\n",
    "        layers.Input(shape=(28,28,1)),\n",
    "        layers.Conv2D(32, (3,3), activation='relu', padding='same'),\n",
    "        layers.Conv2D(32, (3,3), activation='relu', padding='same'),\n",
    "        layers.MaxPooling2D(2,2),\n",
    "        layers.Dropout(0.25),\n",
    "        layers.Conv2D(64, (3,3), activation='relu', padding='same'),\n",
    "        layers.Conv2D(64, (3,3), activation='relu', padding='same'),\n",
    "        layers.MaxPooling2D(2,2),\n",
    "        layers.Dropout(0.25),\n",
    "        layers.Flatten(),\n",
    "        layers.Dense(256, activation='relu'),\n",
    "        layers.Dropout(0.5),\n",
    "        layers.Dense(10, activation='softmax')\n",
    "    ])\n",
    "    model.compile(optimizer='adam', loss='sparse_categorical_crossentropy', metrics=['accuracy'])\n",
    "    return model\n",
    "\n",
    "model = get_improved_model()\n",
    "callbacks = [\n",
    "    ReduceLROnPlateau(monitor='val_loss', factor=0.5, patience=3, min_lr=1e-6),\n",
    "    EarlyStopping(monitor='val_loss', patience=8, restore_best_weights=True),\n",
    "    ModelCheckpoint('mnist_canvas_robust.h5', save_best_only=True)\n",
    "]\n",
    "\n",
    "history = model.fit(X_train_aug, Y_train_aug, epochs=10, batch_size=128, validation_split=0.1, callbacks=callbacks, verbose=1)\n",
    "\n",
    "model.load_weights('mnist_canvas_robust.h5')\n"
   ]
  },
  {
   "cell_type": "code",
   "execution_count": 23,
   "id": "4fe69306-e48f-41a2-887c-aa041d88cac3",
   "metadata": {},
   "outputs": [
    {
     "name": "stdout",
     "output_type": "stream",
     "text": [
      "\u001b[1m313/313\u001b[0m \u001b[32m━━━━━━━━━━━━━━━━━━━━\u001b[0m\u001b[37m\u001b[0m \u001b[1m4s\u001b[0m 11ms/step\n",
      "              precision    recall  f1-score   support\n",
      "\n",
      "           0       0.99      1.00      1.00       980\n",
      "           1       0.99      1.00      1.00      1135\n",
      "           2       0.99      0.99      0.99      1032\n",
      "           3       1.00      1.00      1.00      1010\n",
      "           4       0.99      1.00      0.99       982\n",
      "           5       1.00      0.99      0.99       892\n",
      "           6       1.00      0.99      0.99       958\n",
      "           7       0.99      0.99      0.99      1028\n",
      "           8       0.99      0.99      0.99       974\n",
      "           9       0.99      0.98      0.99      1009\n",
      "\n",
      "    accuracy                           0.99     10000\n",
      "   macro avg       0.99      0.99      0.99     10000\n",
      "weighted avg       0.99      0.99      0.99     10000\n",
      "\n"
     ]
    },
    {
     "data": {
      "image/png": "[encoded data removed]",
      "text/plain": [
       "<Figure size 800x600 with 2 Axes>"
      ]
     },
     "metadata": {},
     "output_type": "display_data"
    }
   ],
   "source": [
    "\n",
    "import numpy as np\n",
    "from sklearn.metrics import confusion_matrix, classification_report\n",
    "import matplotlib.pyplot as plt\n",
    "\n",
    "y_pred = np.argmax(model.predict(x_test), axis=1)\n",
    "print(classification_report(y_test, y_pred))\n",
    "\n",
    "cm = confusion_matrix(y_test, y_pred)\n",
    "plt.figure(figsize=(8,6))\n",
    "plt.imshow(cm, interpolation='nearest', cmap='Blues')\n",
    "plt.title('Confusion matrix')\n",
    "plt.colorbar()\n",
    "plt.ylabel('True label')\n",
    "plt.xlabel('Predicted label')\n",
    "plt.show()"
   ]
  },
  {
   "cell_type": "code",
   "execution_count": 25,
   "id": "11befbf4-4139-493f-bf72-28a4a76ec557",
   "metadata": {},
   "outputs": [
    {
     "name": "stdout",
     "output_type": "stream",
     "text": [
      "✅ Image saved as 'digit.png'\n"
     ]
    }
   ],
   "source": [
    "import numpy as np\n",
    "import cv2\n",
    "\n",
    "canvas_size = 280  \n",
    "canvas = np.ones((canvas_size, canvas_size), dtype='uint8') * 255\n",
    "drawing = False\n",
    "brush_size = 10  \n",
    "\n",
    "def on_mouse(event, x, y, flags, param):\n",
    "    global drawing, canvas\n",
    "    if event == cv2.EVENT_LBUTTONDOWN:\n",
    "        drawing = True\n",
    "    elif event == cv2.EVENT_MOUSEMOVE and drawing:\n",
    "        cv2.circle(canvas, (x, y), brush_size, (0, 0, 0), -1)\n",
    "    elif event == cv2.EVENT_LBUTTONUP:\n",
    "        drawing = False\n",
    "\n",
    "cv2.namedWindow('Draw Digit (press S to save, Q to quit)')\n",
    "cv2.setMouseCallback('Draw Digit (press S to save, Q to quit)', on_mouse)\n",
    "\n",
    "while True:\n",
    "    cv2.imshow('Draw Digit (press S to save, Q to quit)', canvas)\n",
    "    key = cv2.waitKey(1) & 0xFF\n",
    "\n",
    "    if key == ord('s'):\n",
    "        img_resized = cv2.resize(canvas, (28, 28), interpolation=cv2.INTER_AREA)\n",
    "        img_inverted = cv2.bitwise_not(img_resized)\n",
    "        cv2.imwrite('digit.png', img_inverted)\n",
    "        print(\"✅ Image saved as 'digit.png'\")\n",
    "        break\n",
    "\n",
    "    elif key == ord('q'):\n",
    "        print(\"❌ Exited without saving.\")\n",
    "        break\n",
    "\n",
    "cv2.destroyAllWindows()\n"
   ]
  },
  {
   "cell_type": "code",
   "execution_count": 26,
   "id": "48792f14-a572-4d9f-97f1-cf33c66d2b37",
   "metadata": {},
   "outputs": [
    {
     "data": {
      "image/png": "[encoded data removed]",
      "text/plain": [
       "<Figure size 640x480 with 1 Axes>"
      ]
     },
     "metadata": {},
     "output_type": "display_data"
    },
    {
     "name": "stderr",
     "output_type": "stream",
     "text": [
      "WARNING:absl:Compiled the loaded model, but the compiled metrics have yet to be built. `model.compile_metrics` will be empty until you train or evaluate the model.\n"
     ]
    },
    {
     "name": "stdout",
     "output_type": "stream",
     "text": [
      "\u001b[1m1/1\u001b[0m \u001b[32m━━━━━━━━━━━━━━━━━━━━\u001b[0m\u001b[37m\u001b[0m \u001b[1m0s\u001b[0m 112ms/step\n",
      "Predicted: 1 conf: 0.9999999\n"
     ]
    }
   ],
   "source": [
    "import cv2\n",
    "import matplotlib.pyplot as plt\n",
    "\n",
    "img = cv2.imread(\"digit.png\", cv2.IMREAD_GRAYSCALE)\n",
    "plt.imshow(img, cmap='gray')\n",
    "plt.axis('off')\n",
    "plt.show()\n",
    "\n",
    "from PIL import Image\n",
    "import numpy as np\n",
    "model = tf.keras.models.load_model('mnist_canvas_robust.h5')\n",
    "\n",
    "pil = Image.open('digit.png')  # your canvas saved file\n",
    "arr28 = mnist_style_preprocess_pil(pil)   # returns 28x28 float array\n",
    "inp = arr28.reshape(1,28,28,1)\n",
    "preds = model.predict(inp)\n",
    "print(\"Predicted:\", np.argmax(preds), \"conf:\", preds.max())\n"
   ]
  },
  {
   "cell_type": "code",
   "execution_count": null,
   "id": "fc24d6ec-7df9-4108-af4f-af4afeb6d94e",
   "metadata": {},
   "outputs": [],
   "source": []
  }
 ],
 "metadata": {
  "kernelspec": {
   "display_name": "Python 3.11 (GPU)",
   "language": "python",
   "name": "py311env"
  },
  "language_info": {
   "codemirror_mode": {
    "name": "ipython",
    "version": 3
   },
   "file_extension": ".py",
   "mimetype": "text/x-python",
   "name": "python",
   "nbconvert_exporter": "python",
   "pygments_lexer": "ipython3",
   "version": "3.11.14"
  }
 },
 "nbformat": 4,
 "nbformat_minor": 5
}
